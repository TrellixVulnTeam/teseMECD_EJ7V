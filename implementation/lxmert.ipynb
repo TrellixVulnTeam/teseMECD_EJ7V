{
  "nbformat": 4,
  "nbformat_minor": 0,
  "metadata": {
    "colab": {
      "name": "lxmert.ipynb",
      "provenance": [],
      "collapsed_sections": []
    },
    "kernelspec": {
      "name": "python3",
      "display_name": "Python 3"
    },
    "language_info": {
      "name": "python"
    },
    "accelerator": "GPU",
    "widgets": {
      "application/vnd.jupyter.widget-state+json": {
        "9047c2c5eda94b33b82d9c95b6f0cb4b": {
          "model_module": "@jupyter-widgets/controls",
          "model_name": "HBoxModel",
          "model_module_version": "1.5.0",
          "state": {
            "_dom_classes": [],
            "_model_module": "@jupyter-widgets/controls",
            "_model_module_version": "1.5.0",
            "_model_name": "HBoxModel",
            "_view_count": null,
            "_view_module": "@jupyter-widgets/controls",
            "_view_module_version": "1.5.0",
            "_view_name": "HBoxView",
            "box_style": "",
            "children": [
              "IPY_MODEL_0a4bdede9a7e4a1ca57b006868e3814f",
              "IPY_MODEL_55403fbe7898438ab7e64dfdfec3a495",
              "IPY_MODEL_2bde1544a2354424a226f9f28c3680b7"
            ],
            "layout": "IPY_MODEL_c796d68767294b98b16776a36cc02356"
          }
        },
        "0a4bdede9a7e4a1ca57b006868e3814f": {
          "model_module": "@jupyter-widgets/controls",
          "model_name": "HTMLModel",
          "model_module_version": "1.5.0",
          "state": {
            "_dom_classes": [],
            "_model_module": "@jupyter-widgets/controls",
            "_model_module_version": "1.5.0",
            "_model_name": "HTMLModel",
            "_view_count": null,
            "_view_module": "@jupyter-widgets/controls",
            "_view_module_version": "1.5.0",
            "_view_name": "HTMLView",
            "description": "",
            "description_tooltip": null,
            "layout": "IPY_MODEL_f1984df16bc7435592a7f66cb5f68d10",
            "placeholder": "​",
            "style": "IPY_MODEL_567983f48451490ead175870d856e6b3",
            "value": "Downloading: 100%"
          }
        },
        "55403fbe7898438ab7e64dfdfec3a495": {
          "model_module": "@jupyter-widgets/controls",
          "model_name": "FloatProgressModel",
          "model_module_version": "1.5.0",
          "state": {
            "_dom_classes": [],
            "_model_module": "@jupyter-widgets/controls",
            "_model_module_version": "1.5.0",
            "_model_name": "FloatProgressModel",
            "_view_count": null,
            "_view_module": "@jupyter-widgets/controls",
            "_view_module_version": "1.5.0",
            "_view_name": "ProgressView",
            "bar_style": "success",
            "description": "",
            "description_tooltip": null,
            "layout": "IPY_MODEL_fbb222217b91451b90a1281f8df4e046",
            "max": 776,
            "min": 0,
            "orientation": "horizontal",
            "style": "IPY_MODEL_1de996841cd746d4a7e6bf91ddd9dc21",
            "value": 776
          }
        },
        "2bde1544a2354424a226f9f28c3680b7": {
          "model_module": "@jupyter-widgets/controls",
          "model_name": "HTMLModel",
          "model_module_version": "1.5.0",
          "state": {
            "_dom_classes": [],
            "_model_module": "@jupyter-widgets/controls",
            "_model_module_version": "1.5.0",
            "_model_name": "HTMLModel",
            "_view_count": null,
            "_view_module": "@jupyter-widgets/controls",
            "_view_module_version": "1.5.0",
            "_view_name": "HTMLView",
            "description": "",
            "description_tooltip": null,
            "layout": "IPY_MODEL_474865dbeeec4b6081d2cd013ae7b993",
            "placeholder": "​",
            "style": "IPY_MODEL_95af8758aea14057950628117c7d86b2",
            "value": " 776/776 [00:00&lt;00:00, 12.8kB/s]"
          }
        },
        "c796d68767294b98b16776a36cc02356": {
          "model_module": "@jupyter-widgets/base",
          "model_name": "LayoutModel",
          "model_module_version": "1.2.0",
          "state": {
            "_model_module": "@jupyter-widgets/base",
            "_model_module_version": "1.2.0",
            "_model_name": "LayoutModel",
            "_view_count": null,
            "_view_module": "@jupyter-widgets/base",
            "_view_module_version": "1.2.0",
            "_view_name": "LayoutView",
            "align_content": null,
            "align_items": null,
            "align_self": null,
            "border": null,
            "bottom": null,
            "display": null,
            "flex": null,
            "flex_flow": null,
            "grid_area": null,
            "grid_auto_columns": null,
            "grid_auto_flow": null,
            "grid_auto_rows": null,
            "grid_column": null,
            "grid_gap": null,
            "grid_row": null,
            "grid_template_areas": null,
            "grid_template_columns": null,
            "grid_template_rows": null,
            "height": null,
            "justify_content": null,
            "justify_items": null,
            "left": null,
            "margin": null,
            "max_height": null,
            "max_width": null,
            "min_height": null,
            "min_width": null,
            "object_fit": null,
            "object_position": null,
            "order": null,
            "overflow": null,
            "overflow_x": null,
            "overflow_y": null,
            "padding": null,
            "right": null,
            "top": null,
            "visibility": null,
            "width": null
          }
        },
        "f1984df16bc7435592a7f66cb5f68d10": {
          "model_module": "@jupyter-widgets/base",
          "model_name": "LayoutModel",
          "model_module_version": "1.2.0",
          "state": {
            "_model_module": "@jupyter-widgets/base",
            "_model_module_version": "1.2.0",
            "_model_name": "LayoutModel",
            "_view_count": null,
            "_view_module": "@jupyter-widgets/base",
            "_view_module_version": "1.2.0",
            "_view_name": "LayoutView",
            "align_content": null,
            "align_items": null,
            "align_self": null,
            "border": null,
            "bottom": null,
            "display": null,
            "flex": null,
            "flex_flow": null,
            "grid_area": null,
            "grid_auto_columns": null,
            "grid_auto_flow": null,
            "grid_auto_rows": null,
            "grid_column": null,
            "grid_gap": null,
            "grid_row": null,
            "grid_template_areas": null,
            "grid_template_columns": null,
            "grid_template_rows": null,
            "height": null,
            "justify_content": null,
            "justify_items": null,
            "left": null,
            "margin": null,
            "max_height": null,
            "max_width": null,
            "min_height": null,
            "min_width": null,
            "object_fit": null,
            "object_position": null,
            "order": null,
            "overflow": null,
            "overflow_x": null,
            "overflow_y": null,
            "padding": null,
            "right": null,
            "top": null,
            "visibility": null,
            "width": null
          }
        },
        "567983f48451490ead175870d856e6b3": {
          "model_module": "@jupyter-widgets/controls",
          "model_name": "DescriptionStyleModel",
          "model_module_version": "1.5.0",
          "state": {
            "_model_module": "@jupyter-widgets/controls",
            "_model_module_version": "1.5.0",
            "_model_name": "DescriptionStyleModel",
            "_view_count": null,
            "_view_module": "@jupyter-widgets/base",
            "_view_module_version": "1.2.0",
            "_view_name": "StyleView",
            "description_width": ""
          }
        },
        "fbb222217b91451b90a1281f8df4e046": {
          "model_module": "@jupyter-widgets/base",
          "model_name": "LayoutModel",
          "model_module_version": "1.2.0",
          "state": {
            "_model_module": "@jupyter-widgets/base",
            "_model_module_version": "1.2.0",
            "_model_name": "LayoutModel",
            "_view_count": null,
            "_view_module": "@jupyter-widgets/base",
            "_view_module_version": "1.2.0",
            "_view_name": "LayoutView",
            "align_content": null,
            "align_items": null,
            "align_self": null,
            "border": null,
            "bottom": null,
            "display": null,
            "flex": null,
            "flex_flow": null,
            "grid_area": null,
            "grid_auto_columns": null,
            "grid_auto_flow": null,
            "grid_auto_rows": null,
            "grid_column": null,
            "grid_gap": null,
            "grid_row": null,
            "grid_template_areas": null,
            "grid_template_columns": null,
            "grid_template_rows": null,
            "height": null,
            "justify_content": null,
            "justify_items": null,
            "left": null,
            "margin": null,
            "max_height": null,
            "max_width": null,
            "min_height": null,
            "min_width": null,
            "object_fit": null,
            "object_position": null,
            "order": null,
            "overflow": null,
            "overflow_x": null,
            "overflow_y": null,
            "padding": null,
            "right": null,
            "top": null,
            "visibility": null,
            "width": null
          }
        },
        "1de996841cd746d4a7e6bf91ddd9dc21": {
          "model_module": "@jupyter-widgets/controls",
          "model_name": "ProgressStyleModel",
          "model_module_version": "1.5.0",
          "state": {
            "_model_module": "@jupyter-widgets/controls",
            "_model_module_version": "1.5.0",
            "_model_name": "ProgressStyleModel",
            "_view_count": null,
            "_view_module": "@jupyter-widgets/base",
            "_view_module_version": "1.2.0",
            "_view_name": "StyleView",
            "bar_color": null,
            "description_width": ""
          }
        },
        "474865dbeeec4b6081d2cd013ae7b993": {
          "model_module": "@jupyter-widgets/base",
          "model_name": "LayoutModel",
          "model_module_version": "1.2.0",
          "state": {
            "_model_module": "@jupyter-widgets/base",
            "_model_module_version": "1.2.0",
            "_model_name": "LayoutModel",
            "_view_count": null,
            "_view_module": "@jupyter-widgets/base",
            "_view_module_version": "1.2.0",
            "_view_name": "LayoutView",
            "align_content": null,
            "align_items": null,
            "align_self": null,
            "border": null,
            "bottom": null,
            "display": null,
            "flex": null,
            "flex_flow": null,
            "grid_area": null,
            "grid_auto_columns": null,
            "grid_auto_flow": null,
            "grid_auto_rows": null,
            "grid_column": null,
            "grid_gap": null,
            "grid_row": null,
            "grid_template_areas": null,
            "grid_template_columns": null,
            "grid_template_rows": null,
            "height": null,
            "justify_content": null,
            "justify_items": null,
            "left": null,
            "margin": null,
            "max_height": null,
            "max_width": null,
            "min_height": null,
            "min_width": null,
            "object_fit": null,
            "object_position": null,
            "order": null,
            "overflow": null,
            "overflow_x": null,
            "overflow_y": null,
            "padding": null,
            "right": null,
            "top": null,
            "visibility": null,
            "width": null
          }
        },
        "95af8758aea14057950628117c7d86b2": {
          "model_module": "@jupyter-widgets/controls",
          "model_name": "DescriptionStyleModel",
          "model_module_version": "1.5.0",
          "state": {
            "_model_module": "@jupyter-widgets/controls",
            "_model_module_version": "1.5.0",
            "_model_name": "DescriptionStyleModel",
            "_view_count": null,
            "_view_module": "@jupyter-widgets/base",
            "_view_module_version": "1.2.0",
            "_view_name": "StyleView",
            "description_width": ""
          }
        }
      }
    }
  },
  "cells": [
    {
      "cell_type": "code",
      "source": [
        "#from PIL import Image\n",
        "#import requests\n",
        "#requests.__version__\n",
        "#!pip install requests==2.27.1\n",
        "!pip install transformers\n",
        "!pip install wget"
      ],
      "metadata": {
        "colab": {
          "base_uri": "https://localhost:8080/"
        },
        "id": "vb0ph0VZSpu-",
        "outputId": "a03baf11-5702-4c24-e03b-365c95bac8cf"
      },
      "execution_count": 1,
      "outputs": [
        {
          "output_type": "stream",
          "name": "stdout",
          "text": [
            "Collecting transformers\n",
            "  Downloading transformers-4.17.0-py3-none-any.whl (3.8 MB)\n",
            "\u001b[K     |████████████████████████████████| 3.8 MB 4.4 MB/s \n",
            "\u001b[?25hRequirement already satisfied: numpy>=1.17 in /usr/local/lib/python3.7/dist-packages (from transformers) (1.21.5)\n",
            "Collecting sacremoses\n",
            "  Downloading sacremoses-0.0.49-py3-none-any.whl (895 kB)\n",
            "\u001b[K     |████████████████████████████████| 895 kB 45.2 MB/s \n",
            "\u001b[?25hRequirement already satisfied: tqdm>=4.27 in /usr/local/lib/python3.7/dist-packages (from transformers) (4.63.0)\n",
            "Collecting pyyaml>=5.1\n",
            "  Downloading PyYAML-6.0-cp37-cp37m-manylinux_2_5_x86_64.manylinux1_x86_64.manylinux_2_12_x86_64.manylinux2010_x86_64.whl (596 kB)\n",
            "\u001b[K     |████████████████████████████████| 596 kB 49.3 MB/s \n",
            "\u001b[?25hRequirement already satisfied: regex!=2019.12.17 in /usr/local/lib/python3.7/dist-packages (from transformers) (2019.12.20)\n",
            "Requirement already satisfied: packaging>=20.0 in /usr/local/lib/python3.7/dist-packages (from transformers) (21.3)\n",
            "Requirement already satisfied: filelock in /usr/local/lib/python3.7/dist-packages (from transformers) (3.6.0)\n",
            "Collecting tokenizers!=0.11.3,>=0.11.1\n",
            "  Downloading tokenizers-0.12.0-cp37-cp37m-manylinux_2_12_x86_64.manylinux2010_x86_64.whl (6.6 MB)\n",
            "\u001b[K     |████████████████████████████████| 6.6 MB 34.6 MB/s \n",
            "\u001b[?25hCollecting huggingface-hub<1.0,>=0.1.0\n",
            "  Downloading huggingface_hub-0.4.0-py3-none-any.whl (67 kB)\n",
            "\u001b[K     |████████████████████████████████| 67 kB 2.6 MB/s \n",
            "\u001b[?25hRequirement already satisfied: requests in /usr/local/lib/python3.7/dist-packages (from transformers) (2.23.0)\n",
            "Requirement already satisfied: importlib-metadata in /usr/local/lib/python3.7/dist-packages (from transformers) (4.11.3)\n",
            "Requirement already satisfied: typing-extensions>=3.7.4.3 in /usr/local/lib/python3.7/dist-packages (from huggingface-hub<1.0,>=0.1.0->transformers) (3.10.0.2)\n",
            "Requirement already satisfied: pyparsing!=3.0.5,>=2.0.2 in /usr/local/lib/python3.7/dist-packages (from packaging>=20.0->transformers) (3.0.7)\n",
            "Requirement already satisfied: zipp>=0.5 in /usr/local/lib/python3.7/dist-packages (from importlib-metadata->transformers) (3.7.0)\n",
            "Requirement already satisfied: chardet<4,>=3.0.2 in /usr/local/lib/python3.7/dist-packages (from requests->transformers) (3.0.4)\n",
            "Requirement already satisfied: urllib3!=1.25.0,!=1.25.1,<1.26,>=1.21.1 in /usr/local/lib/python3.7/dist-packages (from requests->transformers) (1.24.3)\n",
            "Requirement already satisfied: idna<3,>=2.5 in /usr/local/lib/python3.7/dist-packages (from requests->transformers) (2.10)\n",
            "Requirement already satisfied: certifi>=2017.4.17 in /usr/local/lib/python3.7/dist-packages (from requests->transformers) (2021.10.8)\n",
            "Requirement already satisfied: six in /usr/local/lib/python3.7/dist-packages (from sacremoses->transformers) (1.15.0)\n",
            "Requirement already satisfied: click in /usr/local/lib/python3.7/dist-packages (from sacremoses->transformers) (7.1.2)\n",
            "Requirement already satisfied: joblib in /usr/local/lib/python3.7/dist-packages (from sacremoses->transformers) (1.1.0)\n",
            "Installing collected packages: pyyaml, tokenizers, sacremoses, huggingface-hub, transformers\n",
            "  Attempting uninstall: pyyaml\n",
            "    Found existing installation: PyYAML 3.13\n",
            "    Uninstalling PyYAML-3.13:\n",
            "      Successfully uninstalled PyYAML-3.13\n",
            "Successfully installed huggingface-hub-0.4.0 pyyaml-6.0 sacremoses-0.0.49 tokenizers-0.12.0 transformers-4.17.0\n",
            "Collecting wget\n",
            "  Downloading wget-3.2.zip (10 kB)\n",
            "Building wheels for collected packages: wget\n",
            "  Building wheel for wget (setup.py) ... \u001b[?25l\u001b[?25hdone\n",
            "  Created wheel for wget: filename=wget-3.2-py3-none-any.whl size=9675 sha256=39cde5c05e8a9aaa0a6b7571eb2562c91af38ff1c0b91574c68bffd7f8b9c068\n",
            "  Stored in directory: /root/.cache/pip/wheels/a1/b6/7c/0e63e34eb06634181c63adacca38b79ff8f35c37e3c13e3c02\n",
            "Successfully built wget\n",
            "Installing collected packages: wget\n",
            "Successfully installed wget-3.2\n"
          ]
        }
      ]
    },
    {
      "cell_type": "code",
      "execution_count": 3,
      "metadata": {
        "id": "C6OYval8z57_",
        "colab": {
          "base_uri": "https://localhost:8080/"
        },
        "outputId": "2d33327b-cc41-4fc4-cc05-a6b3f5b627e7"
      },
      "outputs": [
        {
          "output_type": "stream",
          "name": "stdout",
          "text": [
            "Mounted at /content/drive\n"
          ]
        }
      ],
      "source": [
        "from google.colab import drive\n",
        "drive.mount('/content/drive')"
      ]
    },
    {
      "cell_type": "code",
      "source": [
        "import sys\n",
        "import os\n",
        "sys.path.append(os.path.abspath('/content/drive/MyDrive/teses/tese_MECD/implementation'))"
      ],
      "metadata": {
        "id": "i3qNzGu1rNn4"
      },
      "execution_count": 4,
      "outputs": []
    },
    {
      "cell_type": "code",
      "source": [
        "%cd '/content/drive/MyDrive/teses/tese_MECD/implementation'"
      ],
      "metadata": {
        "colab": {
          "base_uri": "https://localhost:8080/"
        },
        "id": "NJxeT39EFCsv",
        "outputId": "9f23ed16-88b7-4925-c481-8ac109d14bb9"
      },
      "execution_count": 5,
      "outputs": [
        {
          "output_type": "stream",
          "name": "stdout",
          "text": [
            "/content/drive/MyDrive/teses/tese_MECD/implementation\n"
          ]
        }
      ]
    },
    {
      "cell_type": "code",
      "source": [
        "url = \"./data/flickr30k_images/flickr30k_images/5897297135.jpg\"\n",
        "os.path.isfile(url)\n",
        "os.path.isfile('./data/flickr30k_images/flickr30k_images/4852389235.jpg')\n",
        "#image = Image.open(requests.get(url, stream=True).raw).convert(\"RGB\")"
      ],
      "metadata": {
        "colab": {
          "base_uri": "https://localhost:8080/"
        },
        "id": "KBVe8SacTipw",
        "outputId": "850835ec-ead3-44ff-8d07-ea8d3b4f6ea9"
      },
      "execution_count": 6,
      "outputs": [
        {
          "output_type": "execute_result",
          "data": {
            "text/plain": [
              "True"
            ]
          },
          "metadata": {},
          "execution_count": 6
        }
      ]
    },
    {
      "cell_type": "code",
      "source": [
        "import torch\n",
        "import pandas as pd\n",
        "from sklearn.model_selection import train_test_split\n",
        "from transformers import LxmertTokenizer, LxmertConfig, LxmertModel\n",
        "from modeling_frcnn import GeneralizedRCNN\n",
        "import utils\n",
        "from processing_image import Preprocess\n",
        "from transformers import AdamW\n",
        "from torch.utils.data import DataLoader"
      ],
      "metadata": {
        "id": "jeQR8UHvrOAx"
      },
      "execution_count": 7,
      "outputs": []
    },
    {
      "cell_type": "code",
      "source": [
        "class MyDataset(torch.utils.data.Dataset):\n",
        "    def __init__(self, hypothesis, images, labels):\n",
        "        self.hypothesis = hypothesis\n",
        "        self.images = images\n",
        "        self.labels = labels\n",
        "    \n",
        "    def __getitem__(self, idx):\n",
        "        item = {'text':self.hypothesis[idx],'img':self.images[idx],\n",
        "                'label': self.labels[idx]}\n",
        "        return item\n",
        "\n",
        "    def __len__(self):\n",
        "        return len(self.labels)"
      ],
      "metadata": {
        "id": "mg4viCI90XBP"
      },
      "execution_count": 8,
      "outputs": []
    },
    {
      "cell_type": "code",
      "source": [
        "class MyTrainer():\n",
        "    def __init__(self,model,device='cpu'):\n",
        "        self.device = device\n",
        "        self.train = self.read_dataset(data_path ='./data/', dataset_path='esnlive_train.csv',\n",
        "                                       img_path='flickr30k_images/flickr30k_images/')\n",
        "        self.test = self.read_dataset(data_path ='./data/', dataset_path='esnlive_test.csv',\n",
        "                                       img_path='flickr30k_images/flickr30k_images/')\n",
        "        self.train_dataset = MyDataset(self.train['hypothesis'].values,\n",
        "                                 self.train['image'].values,\n",
        "                                 self.train['label'].values)\n",
        "        self.test_dataset = MyDataset(self.test['hypothesis'].values,\n",
        "                                 self.test['image'].values,\n",
        "                                 self.test['label'].values)\n",
        "        self.lxmert_tokenizer = LxmertTokenizer.from_pretrained(\"unc-nlp/lxmert-base-uncased\")\n",
        "        self.rcnn_cfg = utils.Config.from_pretrained(\"unc-nlp/frcnn-vg-finetuned\")\n",
        "        self.rcnn_cfg.MODEL.DEVICE = self.device\n",
        "        self.rcnn = GeneralizedRCNN.from_pretrained(\"unc-nlp/frcnn-vg-finetuned\", config=self.rcnn_cfg)\n",
        "        self.image_preprocess = Preprocess(self.rcnn_cfg)\n",
        "        self.model = model.to(self.device)\n",
        "    \n",
        "    def get_visual_features(self,img):\n",
        "        #preprocess image\n",
        "        images, sizes, scales_yx = self.image_preprocess(img)\n",
        "        output_dict = self.rcnn(\n",
        "            images, \n",
        "            sizes, \n",
        "            scales_yx=scales_yx, \n",
        "            padding=\"max_detections\",\n",
        "            max_detections=self.rcnn_cfg.max_detections,\n",
        "            return_tensors=\"pt\"\n",
        "        )\n",
        "        \n",
        "        #Very important that the boxes are normalized\n",
        "        normalized_boxes = output_dict.get(\"normalized_boxes\")\n",
        "        features = output_dict.get(\"roi_features\")\n",
        "        return normalized_boxes, features\n",
        "    \n",
        "    def get_text_features(self,text): \n",
        "        #preprocess text\n",
        "        inputs = self.lxmert_tokenizer(\n",
        "            text,\n",
        "            padding=\"max_length\",\n",
        "            max_length=20,\n",
        "            truncation=True,\n",
        "            return_token_type_ids=True,\n",
        "            return_attention_mask=True,\n",
        "            add_special_tokens=True,\n",
        "            return_tensors=\"pt\"\n",
        "        )\n",
        "        return inputs\n",
        "      \n",
        "    def read_dataset(self,data_path=None,dataset_path=None,img_path=None):\n",
        "        data = pd.read_csv(data_path+dataset_path)\n",
        "        labels_encoding = {'contradiction':0,'neutral': 1,\n",
        "                           'entailment':2}\n",
        "        data = data[['hypothesis','Flickr30kID','gold_label']]\n",
        "        data['gold_label']=data['gold_label'].apply(lambda label: labels_encoding[label])\n",
        "        data['Flickr30kID'] = data['Flickr30kID'].apply(lambda x: data_path+img_path+x)\n",
        "        data.rename(columns={ data.columns[0]: \"hypothesis\", data.columns[1]: \"image\",\n",
        "                              data.columns[2]: \"label\" }, inplace = True)\n",
        "        return data\n",
        "                \n",
        "    def train_model(self,epochs=None):\n",
        "        optim = AdamW(self.model.parameters(), lr=5e-5)\n",
        "        train_loader = DataLoader(self.train_dataset, batch_size=2, shuffle=True)\n",
        "        for epoch in range(epochs):\n",
        "            for item in train_loader:\n",
        "                text = item['text']\n",
        "                img = item['img']\n",
        "                label = item['label']\n",
        "                inputs = self.get_text_features(text)\n",
        "                normalized_boxes, features = self.get_visual_features(img)\n",
        "                inputs = inputs.to(self.device)\n",
        "                normalized_boxes = normalized_boxes.to(self.device)\n",
        "                features = features.to(self.device)\n",
        "                label = label.to(self.device)\n",
        "                optim.zero_grad()\n",
        "                outputs = model.forward(\n",
        "                    input_ids=inputs.input_ids,\n",
        "                    attention_mask=inputs.attention_mask,\n",
        "                    features=features,\n",
        "                    normalized_boxes=normalized_boxes,\n",
        "                    token_type_ids=inputs.token_type_ids,\n",
        "                    label = label\n",
        "                )\n",
        "                loss = outputs.loss\n",
        "                loss.backward()\n",
        "                optim.step()\n",
        "                break\n",
        "        self.model.eval()\n",
        "        return"
      ],
      "metadata": {
        "id": "8L7UMGYM02N1"
      },
      "execution_count": 9,
      "outputs": []
    },
    {
      "cell_type": "code",
      "source": [
        "class Lxmert(LxmertModel):\n",
        "    def __init__(self,numb_labels=3):\n",
        "        super().__init__(LxmertConfig.from_pretrained(\"unc-nlp/lxmert-base-uncased\"))\n",
        "        self.config.problem_type = \"single_label_classification\"\n",
        "        self.classification = torch.nn.Linear(self.config.hidden_size, numb_labels)\n",
        "        self.num_labels = numb_labels\n",
        "        if self.config.problem_type == \"single_label_classification\":\n",
        "          self.loss_fct = torch.nn.CrossEntropyLoss()\n",
        "          self.output_loss = lambda output,labels : self.loss_fct(output.logits.view(-1, self.num_labels), labels.view(-1)) \n",
        "        elif self.config.problem_type == \"regression\":\n",
        "          self.loss_fct = torch.nn.MSELoss()\n",
        "          if self.num_labels == 1: self.output_loss = lambda output,labels : self.loss_fct(output.logits.squeeze(), labels.squeeze())\n",
        "          else: self.output_loss =  lambda output,labels : self.loss_fct(output.logits, labels)\n",
        "        elif self.config.problem_type == \"multi_label_classification\":\n",
        "          self.loss_fct = torch.nn.BCEWithLogitsLoss()\n",
        "          self.output_loss = lambda output,labels : self.loss_fct(output.logits, labels)\n",
        "        # don't forget to init the weights for the new layers\n",
        "        self.init_weights()\n",
        "        \n",
        "    def forward(self,input_ids=None,attention_mask=None,token_type_ids=None,features=None,normalized_boxes=None,label=None):\n",
        "        output = super().forward(\n",
        "            input_ids=input_ids,\n",
        "            attention_mask=attention_mask,\n",
        "            visual_feats=features,\n",
        "            visual_pos=normalized_boxes,\n",
        "            token_type_ids=token_type_ids,\n",
        "            return_dict=True,\n",
        "            output_attentions=False,\n",
        "        )\n",
        "                \n",
        "        aux = self.classification(output.pooled_output)\n",
        "        output.logits = aux\n",
        "        output.loss=None\n",
        "        output.loss = self.output_loss(output, label)\n",
        "        return output\n",
        "    \n",
        "    def save_model(self,path):\n",
        "        torch.save(self.state_dict(), path)\n",
        "        \n",
        "    def load_model(self,path):\n",
        "        self.load_state_dict(torch.load(path))\n",
        "        self.eval()\n",
        "        \n",
        "    def run(self,dataset,trainer):\n",
        "        img_path1 = dataset.loc[50,'image']\n",
        "        text1 = dataset.loc[50,'hypothesis'] #\"How many people are in the image?\"\n",
        "        label1 = torch.LongTensor([dataset.loc[50,'label']])\n",
        "        print('SAMPLE1')\n",
        "        print(img_path1,text1,label1)\n",
        "        item1 = {'text':[text1], 'img':[img_path1], 'label':label1}\n",
        "        inputs = trainer.get_text_features(text1)\n",
        "        normalized_boxes, features = trainer.get_visual_features(img_path1)        \n",
        "        output = self.forward(\n",
        "            input_ids=inputs.input_ids,\n",
        "            attention_mask=inputs.attention_mask,\n",
        "            features=features,\n",
        "            normalized_boxes=normalized_boxes,\n",
        "            token_type_ids=inputs.token_type_ids,\n",
        "            label = label1\n",
        "        )\n",
        "        print(output.logits)\n",
        "        m = torch.nn.Softmax(dim=1)\n",
        "        probs = m(output.logits)\n",
        "        print(probs)\n",
        "        return output"
      ],
      "metadata": {
        "id": "D429P3rO1zgq"
      },
      "execution_count": 10,
      "outputs": []
    },
    {
      "cell_type": "code",
      "source": [
        "#device = \"cpu\"\n",
        "device = torch.device(\"cuda\" if torch.cuda.is_available() else \"cpu\")\n",
        "task = 'train'\n",
        "device"
      ],
      "metadata": {
        "colab": {
          "base_uri": "https://localhost:8080/"
        },
        "id": "ykMFdgi72_t4",
        "outputId": "7f12fe97-96f1-42cc-d57f-1919e93329eb"
      },
      "execution_count": 11,
      "outputs": [
        {
          "output_type": "execute_result",
          "data": {
            "text/plain": [
              "device(type='cuda')"
            ]
          },
          "metadata": {},
          "execution_count": 11
        }
      ]
    },
    {
      "cell_type": "code",
      "source": [
        "if task =='train':\n",
        "    model = Lxmert()\n",
        "    trainer = MyTrainer(model,device=device)\n",
        "    trainer.train_model(epochs=1)\n",
        "    model.save_model(\"/content/drive/MyDrive/teses/tese_MECD/implementation/my_model\")\n",
        "    print('done')\n",
        "elif task =='test':\n",
        "    model = Lxmert()\n",
        "    model.load_model(\"/content/drive/MyDrive/teses/tese_MECD/implementation/my_model\")\n",
        "    trainer = MyTrainer(model,device=device)\n",
        "    output = model.run(trainer.test,trainer)"
      ],
      "metadata": {
        "colab": {
          "base_uri": "https://localhost:8080/",
          "height": 364,
          "referenced_widgets": [
            "9047c2c5eda94b33b82d9c95b6f0cb4b",
            "0a4bdede9a7e4a1ca57b006868e3814f",
            "55403fbe7898438ab7e64dfdfec3a495",
            "2bde1544a2354424a226f9f28c3680b7",
            "c796d68767294b98b16776a36cc02356",
            "f1984df16bc7435592a7f66cb5f68d10",
            "567983f48451490ead175870d856e6b3",
            "fbb222217b91451b90a1281f8df4e046",
            "1de996841cd746d4a7e6bf91ddd9dc21",
            "474865dbeeec4b6081d2cd013ae7b993",
            "95af8758aea14057950628117c7d86b2",
            "372b2afbfd71423eb69639fb9d1313b3",
            "0349dce976b443f482ea97f6eab68b2f",
            "9ac3672047f24b28bb1875ee942c0983",
            "1325c2faa31c4abf845113664f173bff",
            "572c39f750f34c4aab46ad8ac3610c22"
          ]
        },
        "id": "sPvyCltL3Fhy",
        "outputId": "d114198a-dc72-4997-99fb-f0dce1eb2f63"
      },
      "execution_count": 12,
      "outputs": [
        {
          "data": {
            "application/vnd.jupyter.widget-view+json": {
              "model_id": "9047c2c5eda94b33b82d9c95b6f0cb4b",
              "version_major": 2,
              "version_minor": 0
            },
            "text/plain": [
              "Downloading:   0%|          | 0.00/776 [00:00<?, ?B/s]"
            ]
          },
          "metadata": {},
          "output_type": "display_data"
        },
        {
          "data": {
            "application/vnd.jupyter.widget-view+json": {
              "model_id": "372b2afbfd71423eb69639fb9d1313b3",
              "version_major": 2,
              "version_minor": 0
            },
            "text/plain": [
              "Downloading:   0%|          | 0.00/226k [00:00<?, ?B/s]"
            ]
          },
          "metadata": {},
          "output_type": "display_data"
        },
        {
          "data": {
            "application/vnd.jupyter.widget-view+json": {
              "model_id": "0349dce976b443f482ea97f6eab68b2f",
              "version_major": 2,
              "version_minor": 0
            },
            "text/plain": [
              "Downloading:   0%|          | 0.00/112 [00:00<?, ?B/s]"
            ]
          },
          "metadata": {},
          "output_type": "display_data"
        },
        {
          "data": {
            "application/vnd.jupyter.widget-view+json": {
              "model_id": "9ac3672047f24b28bb1875ee942c0983",
              "version_major": 2,
              "version_minor": 0
            },
            "text/plain": [
              "Downloading:   0%|          | 0.00/153 [00:00<?, ?B/s]"
            ]
          },
          "metadata": {},
          "output_type": "display_data"
        },
        {
          "metadata": {
            "tags": null
          },
          "name": "stdout",
          "output_type": "stream",
          "text": [
            "%s not found in cache or force_download set to True, downloading to %s https://s3.amazonaws.com/models.huggingface.co/bert/unc-nlp/frcnn-vg-finetuned/config.yaml /root/.cache/torch/transformers/tmp0xg3yxgt\n"
          ]
        },
        {
          "data": {
            "application/vnd.jupyter.widget-view+json": {
              "model_id": "1325c2faa31c4abf845113664f173bff",
              "version_major": 2,
              "version_minor": 0
            },
            "text/plain": [
              "Downloading:   0%|          | 0.00/2.13k [00:00<?, ?B/s]"
            ]
          },
          "metadata": {},
          "output_type": "display_data"
        },
        {
          "metadata": {
            "tags": null
          },
          "name": "stdout",
          "output_type": "stream",
          "text": [
            "loading configuration file cache\n",
            "%s not found in cache or force_download set to True, downloading to %s https://cdn.huggingface.co/unc-nlp/frcnn-vg-finetuned/pytorch_model.bin /root/.cache/torch/transformers/tmpfoomb3rd\n"
          ]
        },
        {
          "data": {
            "application/vnd.jupyter.widget-view+json": {
              "model_id": "572c39f750f34c4aab46ad8ac3610c22",
              "version_major": 2,
              "version_minor": 0
            },
            "text/plain": [
              "Downloading:   0%|          | 0.00/262M [00:00<?, ?B/s]"
            ]
          },
          "metadata": {},
          "output_type": "display_data"
        },
        {
          "metadata": {
            "tags": null
          },
          "name": "stdout",
          "output_type": "stream",
          "text": [
            "loading weights file https://cdn.huggingface.co/unc-nlp/frcnn-vg-finetuned/pytorch_model.bin from cache at /root/.cache/torch/transformers/57f6df6abe353be2773f2700159c65615babf39ab5b48114d2b49267672ae10f.77b59256a4cf8343ae0f923246a81489fc8d82f98d082edc2d2037c977c0d9d0\n",
            "All model checkpoint weights were used when initializing GeneralizedRCNN.\n",
            "\n",
            "All the weights of GeneralizedRCNN were initialized from the model checkpoint at unc-nlp/frcnn-vg-finetuned.\n",
            "If your task is similar to the task the model of the checkpoint was trained on, you can already use GeneralizedRCNN for predictions without further training.\n"
          ]
        },
        {
          "output_type": "stream",
          "name": "stderr",
          "text": [
            "/usr/local/lib/python3.7/dist-packages/transformers/optimization.py:309: FutureWarning: This implementation of AdamW is deprecated and will be removed in a future version. Use the PyTorch implementation torch.optim.AdamW instead, or set `no_deprecation_warning=True` to disable this warning\n",
            "  FutureWarning,\n",
            "/usr/local/lib/python3.7/dist-packages/torch/functional.py:445: UserWarning: torch.meshgrid: in an upcoming release, it will be required to pass the indexing argument. (Triggered internally at  ../aten/src/ATen/native/TensorShape.cpp:2157.)\n",
            "  return _VF.meshgrid(tensors, **kwargs)  # type: ignore[attr-defined]\n"
          ]
        }
      ]
    },
    {
      "cell_type": "code",
      "source": [
        "%reset\n",
        "import gc\n",
        "gc.collect()"
      ],
      "metadata": {
        "colab": {
          "base_uri": "https://localhost:8080/"
        },
        "id": "6nAUDsM9egGP",
        "outputId": "8967e94e-3e41-4ac1-e455-75f2e6f51bfe"
      },
      "execution_count": 24,
      "outputs": [
        {
          "name": "stdout",
          "output_type": "stream",
          "text": [
            "Once deleted, variables cannot be recovered. Proceed (y/[n])? y\n"
          ]
        },
        {
          "output_type": "execute_result",
          "data": {
            "text/plain": [
              "0"
            ]
          },
          "metadata": {},
          "execution_count": 24
        }
      ]
    },
    {
      "cell_type": "code",
      "source": [
        ""
      ],
      "metadata": {
        "id": "8gPMifojp-EN"
      },
      "execution_count": null,
      "outputs": []
    }
  ]
}