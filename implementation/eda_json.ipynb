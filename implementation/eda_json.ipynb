{
 "cells": [
  {
   "cell_type": "code",
   "execution_count": 1,
   "id": "d4b38b5c",
   "metadata": {},
   "outputs": [],
   "source": [
    "import pandas as pd"
   ]
  },
  {
   "cell_type": "code",
   "execution_count": 16,
   "id": "198d04e6",
   "metadata": {},
   "outputs": [],
   "source": [
    "data_path = './e-ViL/data/esnlive/'"
   ]
  },
  {
   "cell_type": "code",
   "execution_count": 24,
   "id": "50f9f88c",
   "metadata": {},
   "outputs": [
    {
     "data": {
      "text/html": [
       "<div>\n",
       "<style scoped>\n",
       "    .dataframe tbody tr th:only-of-type {\n",
       "        vertical-align: middle;\n",
       "    }\n",
       "\n",
       "    .dataframe tbody tr th {\n",
       "        vertical-align: top;\n",
       "    }\n",
       "\n",
       "    .dataframe thead th {\n",
       "        text-align: right;\n",
       "    }\n",
       "</style>\n",
       "<table border=\"1\" class=\"dataframe\">\n",
       "  <thead>\n",
       "    <tr style=\"text-align: right;\">\n",
       "      <th></th>\n",
       "      <th>img_id</th>\n",
       "      <th>label</th>\n",
       "      <th>question_id</th>\n",
       "      <th>sent</th>\n",
       "      <th>explanation</th>\n",
       "    </tr>\n",
       "  </thead>\n",
       "  <tbody>\n",
       "    <tr>\n",
       "      <th>0</th>\n",
       "      <td>flickr30k_003416050480.npz</td>\n",
       "      <td>contradiction</td>\n",
       "      <td>3416050480.jpg#4r1c</td>\n",
       "      <td>A person is at a diner, ordering an omelette.</td>\n",
       "      <td>[One cannot be on a jumping horse cannot be a ...</td>\n",
       "    </tr>\n",
       "    <tr>\n",
       "      <th>1</th>\n",
       "      <td>flickr30k_003416050480.npz</td>\n",
       "      <td>entailment</td>\n",
       "      <td>3416050480.jpg#4r1e</td>\n",
       "      <td>A person is outdoors, on a horse.</td>\n",
       "      <td>[a broken down airplane is outdoors]</td>\n",
       "    </tr>\n",
       "    <tr>\n",
       "      <th>2</th>\n",
       "      <td>flickr30k_006160193920.npz</td>\n",
       "      <td>contradiction</td>\n",
       "      <td>6160193920.jpg#1r1c</td>\n",
       "      <td>The middle aged oriental woman is watchingt v</td>\n",
       "      <td>[One is not usually flashing a giant smile whi...</td>\n",
       "    </tr>\n",
       "    <tr>\n",
       "      <th>3</th>\n",
       "      <td>flickr30k_006160193920.npz</td>\n",
       "      <td>entailment</td>\n",
       "      <td>6160193920.jpg#0r1e</td>\n",
       "      <td>An Asian woman is smiling at while another lad...</td>\n",
       "      <td>[another woman rows a boat is simply another l...</td>\n",
       "    </tr>\n",
       "    <tr>\n",
       "      <th>4</th>\n",
       "      <td>flickr30k_006160193920.npz</td>\n",
       "      <td>contradiction</td>\n",
       "      <td>6160193920.jpg#0r1c</td>\n",
       "      <td>An Asian woman is running from a dog.</td>\n",
       "      <td>[Smiling widely is not done while running from...</td>\n",
       "    </tr>\n",
       "  </tbody>\n",
       "</table>\n",
       "</div>"
      ],
      "text/plain": [
       "                       img_id          label          question_id  \\\n",
       "0  flickr30k_003416050480.npz  contradiction  3416050480.jpg#4r1c   \n",
       "1  flickr30k_003416050480.npz     entailment  3416050480.jpg#4r1e   \n",
       "2  flickr30k_006160193920.npz  contradiction  6160193920.jpg#1r1c   \n",
       "3  flickr30k_006160193920.npz     entailment  6160193920.jpg#0r1e   \n",
       "4  flickr30k_006160193920.npz  contradiction  6160193920.jpg#0r1c   \n",
       "\n",
       "                                                sent  \\\n",
       "0      A person is at a diner, ordering an omelette.   \n",
       "1                  A person is outdoors, on a horse.   \n",
       "2      The middle aged oriental woman is watchingt v   \n",
       "3  An Asian woman is smiling at while another lad...   \n",
       "4              An Asian woman is running from a dog.   \n",
       "\n",
       "                                         explanation  \n",
       "0  [One cannot be on a jumping horse cannot be a ...  \n",
       "1               [a broken down airplane is outdoors]  \n",
       "2  [One is not usually flashing a giant smile whi...  \n",
       "3  [another woman rows a boat is simply another l...  \n",
       "4  [Smiling widely is not done while running from...  "
      ]
     },
     "execution_count": 24,
     "metadata": {},
     "output_type": "execute_result"
    }
   ],
   "source": [
    "test = pd.read_json(data_path+'esnlive_test.json',orient = 'records')\n",
    "test.head()"
   ]
  },
  {
   "cell_type": "code",
   "execution_count": 23,
   "id": "4227bfe0",
   "metadata": {},
   "outputs": [
    {
     "data": {
      "text/html": [
       "<div>\n",
       "<style scoped>\n",
       "    .dataframe tbody tr th:only-of-type {\n",
       "        vertical-align: middle;\n",
       "    }\n",
       "\n",
       "    .dataframe tbody tr th {\n",
       "        vertical-align: top;\n",
       "    }\n",
       "\n",
       "    .dataframe thead th {\n",
       "        text-align: right;\n",
       "    }\n",
       "</style>\n",
       "<table border=\"1\" class=\"dataframe\">\n",
       "  <thead>\n",
       "    <tr style=\"text-align: right;\">\n",
       "      <th></th>\n",
       "      <th>img_id</th>\n",
       "      <th>label</th>\n",
       "      <th>question_id</th>\n",
       "      <th>sent</th>\n",
       "      <th>explanation</th>\n",
       "    </tr>\n",
       "  </thead>\n",
       "  <tbody>\n",
       "    <tr>\n",
       "      <th>0</th>\n",
       "      <td>flickr30k_004564320256.npz</td>\n",
       "      <td>contradiction</td>\n",
       "      <td>4564320256.jpg#1r1c</td>\n",
       "      <td>Two old men robbing a convenience store.</td>\n",
       "      <td>[A lady and her granddaughter cannot also be t...</td>\n",
       "    </tr>\n",
       "    <tr>\n",
       "      <th>1</th>\n",
       "      <td>flickr30k_004564320256.npz</td>\n",
       "      <td>entailment</td>\n",
       "      <td>4564320256.jpg#1r1e</td>\n",
       "      <td>Two humans in a store.</td>\n",
       "      <td>[A lady and a granddaughter are both types of ...</td>\n",
       "    </tr>\n",
       "    <tr>\n",
       "      <th>2</th>\n",
       "      <td>flickr30k_004564320256.npz</td>\n",
       "      <td>neutral</td>\n",
       "      <td>4564320256.jpg#1r1n</td>\n",
       "      <td>A mother teaching her granddaughter how to run...</td>\n",
       "      <td>[Just because the old lady and her granddaught...</td>\n",
       "    </tr>\n",
       "    <tr>\n",
       "      <th>3</th>\n",
       "      <td>flickr30k_004564320256.npz</td>\n",
       "      <td>contradiction</td>\n",
       "      <td>4564320256.jpg#0r1c</td>\n",
       "      <td>The lady and the girl are taking a walk to the...</td>\n",
       "      <td>[The lady and girl are surrounded by newspaper...</td>\n",
       "    </tr>\n",
       "    <tr>\n",
       "      <th>4</th>\n",
       "      <td>flickr30k_004564320256.npz</td>\n",
       "      <td>contradiction</td>\n",
       "      <td>4564320256.jpg#2r1c</td>\n",
       "      <td>The old lady is a zombie.</td>\n",
       "      <td>[If the old woman is a zombie, she would be tr...</td>\n",
       "    </tr>\n",
       "  </tbody>\n",
       "</table>\n",
       "</div>"
      ],
      "text/plain": [
       "                       img_id          label          question_id  \\\n",
       "0  flickr30k_004564320256.npz  contradiction  4564320256.jpg#1r1c   \n",
       "1  flickr30k_004564320256.npz     entailment  4564320256.jpg#1r1e   \n",
       "2  flickr30k_004564320256.npz        neutral  4564320256.jpg#1r1n   \n",
       "3  flickr30k_004564320256.npz  contradiction  4564320256.jpg#0r1c   \n",
       "4  flickr30k_004564320256.npz  contradiction  4564320256.jpg#2r1c   \n",
       "\n",
       "                                                sent  \\\n",
       "0           Two old men robbing a convenience store.   \n",
       "1                             Two humans in a store.   \n",
       "2  A mother teaching her granddaughter how to run...   \n",
       "3  The lady and the girl are taking a walk to the...   \n",
       "4                          The old lady is a zombie.   \n",
       "\n",
       "                                         explanation  \n",
       "0  [A lady and her granddaughter cannot also be t...  \n",
       "1  [A lady and a granddaughter are both types of ...  \n",
       "2  [Just because the old lady and her granddaught...  \n",
       "3  [The lady and girl are surrounded by newspaper...  \n",
       "4  [If the old woman is a zombie, she would be tr...  "
      ]
     },
     "execution_count": 23,
     "metadata": {},
     "output_type": "execute_result"
    }
   ],
   "source": [
    "train = pd.read_json(data_path+'esnlive_train.json',orient = 'records')\n",
    "train.head()"
   ]
  },
  {
   "cell_type": "code",
   "execution_count": 20,
   "id": "018eef09",
   "metadata": {},
   "outputs": [],
   "source": [
    "dev = pd.read_json(data_path+'esnlive_dev.json',orient = 'records')"
   ]
  },
  {
   "cell_type": "code",
   "execution_count": 21,
   "id": "49731712",
   "metadata": {},
   "outputs": [],
   "source": [
    "frames = [train,test,dev]\n",
    "full = pd.concat(frames)"
   ]
  },
  {
   "cell_type": "code",
   "execution_count": 22,
   "id": "e8b7035d",
   "metadata": {},
   "outputs": [
    {
     "data": {
      "text/plain": [
       "430796"
      ]
     },
     "execution_count": 22,
     "metadata": {},
     "output_type": "execute_result"
    }
   ],
   "source": [
    "len(full.index)"
   ]
  },
  {
   "cell_type": "code",
   "execution_count": null,
   "id": "8d8b021b",
   "metadata": {},
   "outputs": [],
   "source": []
  }
 ],
 "metadata": {
  "kernelspec": {
   "display_name": "Python 3 (ipykernel)",
   "language": "python",
   "name": "python3"
  },
  "language_info": {
   "codemirror_mode": {
    "name": "ipython",
    "version": 3
   },
   "file_extension": ".py",
   "mimetype": "text/x-python",
   "name": "python",
   "nbconvert_exporter": "python",
   "pygments_lexer": "ipython3",
   "version": "3.8.12"
  }
 },
 "nbformat": 4,
 "nbformat_minor": 5
}
