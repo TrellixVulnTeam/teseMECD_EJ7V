{
 "cells": [
  {
   "cell_type": "code",
   "execution_count": 1,
   "id": "850b71b3",
   "metadata": {},
   "outputs": [],
   "source": [
    "import pandas as pd\n",
    "import seaborn as sns\n",
    "import numpy as np\n",
    "import sys\n",
    "import torch\n",
    "import pickle\n",
    "import lmdb\n",
    "import psutil"
   ]
  },
  {
   "cell_type": "code",
   "execution_count": 2,
   "id": "30d06b61",
   "metadata": {},
   "outputs": [],
   "source": [
    "data_path = './e-ViL/data/'\n",
    "train = pd.read_csv(data_path+'esnlive_train.csv')\n",
    "test = pd.read_csv(data_path+'esnlive_test.csv')\n",
    "dev = pd.read_csv(data_path+'esnlive_dev.csv')\n",
    "results = pd.read_csv(data_path+'flickr30k_images/results.csv', sep ='|')"
   ]
  },
  {
   "cell_type": "code",
   "execution_count": 3,
   "id": "f338a31a",
   "metadata": {
    "scrolled": true
   },
   "outputs": [
    {
     "name": "stdout",
     "output_type": "stream",
     "text": [
      "Train len:  401717\n",
      "Test len:  14740\n",
      "Devlen:  14339\n"
     ]
    }
   ],
   "source": [
    "print(\"Train len: \",len(train.index))\n",
    "print(\"Test len: \",len(test.index))\n",
    "print(\"Devlen: \",len(dev.index))"
   ]
  },
  {
   "cell_type": "code",
   "execution_count": 4,
   "id": "f31aec7d",
   "metadata": {},
   "outputs": [
    {
     "data": {
      "text/html": [
       "<div>\n",
       "<style scoped>\n",
       "    .dataframe tbody tr th:only-of-type {\n",
       "        vertical-align: middle;\n",
       "    }\n",
       "\n",
       "    .dataframe tbody tr th {\n",
       "        vertical-align: top;\n",
       "    }\n",
       "\n",
       "    .dataframe thead th {\n",
       "        text-align: right;\n",
       "    }\n",
       "</style>\n",
       "<table border=\"1\" class=\"dataframe\">\n",
       "  <thead>\n",
       "    <tr style=\"text-align: right;\">\n",
       "      <th></th>\n",
       "      <th>Unnamed: 0</th>\n",
       "      <th>pairID</th>\n",
       "      <th>Flickr30kID</th>\n",
       "      <th>hypothesis</th>\n",
       "      <th>gold_label</th>\n",
       "      <th>explanation</th>\n",
       "    </tr>\n",
       "  </thead>\n",
       "  <tbody>\n",
       "    <tr>\n",
       "      <th>0</th>\n",
       "      <td>0</td>\n",
       "      <td>4564320256.jpg#1r1c</td>\n",
       "      <td>4564320256.jpg</td>\n",
       "      <td>Two old men robbing a convenience store.</td>\n",
       "      <td>contradiction</td>\n",
       "      <td>A lady and her granddaughter cannot also be tw...</td>\n",
       "    </tr>\n",
       "    <tr>\n",
       "      <th>1</th>\n",
       "      <td>1</td>\n",
       "      <td>4564320256.jpg#1r1e</td>\n",
       "      <td>4564320256.jpg</td>\n",
       "      <td>Two humans in a store.</td>\n",
       "      <td>entailment</td>\n",
       "      <td>A lady and a granddaughter are both types of h...</td>\n",
       "    </tr>\n",
       "    <tr>\n",
       "      <th>2</th>\n",
       "      <td>2</td>\n",
       "      <td>4564320256.jpg#1r1n</td>\n",
       "      <td>4564320256.jpg</td>\n",
       "      <td>A mother teaching her granddaughter how to run...</td>\n",
       "      <td>neutral</td>\n",
       "      <td>Just because the old lady and her granddaughte...</td>\n",
       "    </tr>\n",
       "    <tr>\n",
       "      <th>3</th>\n",
       "      <td>3</td>\n",
       "      <td>4564320256.jpg#0r1c</td>\n",
       "      <td>4564320256.jpg</td>\n",
       "      <td>The lady and the girl are taking a walk to the...</td>\n",
       "      <td>contradiction</td>\n",
       "      <td>The lady and girl are surrounded by newspapers...</td>\n",
       "    </tr>\n",
       "    <tr>\n",
       "      <th>4</th>\n",
       "      <td>4</td>\n",
       "      <td>4564320256.jpg#2r1c</td>\n",
       "      <td>4564320256.jpg</td>\n",
       "      <td>The old lady is a zombie.</td>\n",
       "      <td>contradiction</td>\n",
       "      <td>If the old woman is a zombie, she would be try...</td>\n",
       "    </tr>\n",
       "  </tbody>\n",
       "</table>\n",
       "</div>"
      ],
      "text/plain": [
       "   Unnamed: 0               pairID     Flickr30kID  \\\n",
       "0           0  4564320256.jpg#1r1c  4564320256.jpg   \n",
       "1           1  4564320256.jpg#1r1e  4564320256.jpg   \n",
       "2           2  4564320256.jpg#1r1n  4564320256.jpg   \n",
       "3           3  4564320256.jpg#0r1c  4564320256.jpg   \n",
       "4           4  4564320256.jpg#2r1c  4564320256.jpg   \n",
       "\n",
       "                                          hypothesis     gold_label  \\\n",
       "0           Two old men robbing a convenience store.  contradiction   \n",
       "1                             Two humans in a store.     entailment   \n",
       "2  A mother teaching her granddaughter how to run...        neutral   \n",
       "3  The lady and the girl are taking a walk to the...  contradiction   \n",
       "4                          The old lady is a zombie.  contradiction   \n",
       "\n",
       "                                         explanation  \n",
       "0  A lady and her granddaughter cannot also be tw...  \n",
       "1  A lady and a granddaughter are both types of h...  \n",
       "2  Just because the old lady and her granddaughte...  \n",
       "3  The lady and girl are surrounded by newspapers...  \n",
       "4  If the old woman is a zombie, she would be try...  "
      ]
     },
     "execution_count": 4,
     "metadata": {},
     "output_type": "execute_result"
    }
   ],
   "source": [
    "frames = [train,test,dev]\n",
    "full = pd.concat(frames)\n",
    "train.head()"
   ]
  },
  {
   "cell_type": "code",
   "execution_count": 5,
   "id": "a8b0938b",
   "metadata": {},
   "outputs": [
    {
     "data": {
      "text/plain": [
       "430796"
      ]
     },
     "execution_count": 5,
     "metadata": {},
     "output_type": "execute_result"
    }
   ],
   "source": [
    "len(full.index)"
   ]
  },
  {
   "cell_type": "code",
   "execution_count": 6,
   "id": "4c1692ff",
   "metadata": {},
   "outputs": [
    {
     "data": {
      "text/plain": [
       "Unnamed: 0     401717\n",
       "pairID         430796\n",
       "Flickr30kID     31783\n",
       "hypothesis     374937\n",
       "gold_label          3\n",
       "explanation    414216\n",
       "dtype: int64"
      ]
     },
     "execution_count": 6,
     "metadata": {},
     "output_type": "execute_result"
    }
   ],
   "source": [
    "full.nunique()"
   ]
  },
  {
   "cell_type": "code",
   "execution_count": 7,
   "id": "8e2d6aeb",
   "metadata": {},
   "outputs": [
    {
     "name": "stdout",
     "output_type": "stream",
     "text": [
      "399013\n",
      "31783\n"
     ]
    },
    {
     "data": {
      "text/html": [
       "<div>\n",
       "<style scoped>\n",
       "    .dataframe tbody tr th:only-of-type {\n",
       "        vertical-align: middle;\n",
       "    }\n",
       "\n",
       "    .dataframe tbody tr th {\n",
       "        vertical-align: top;\n",
       "    }\n",
       "\n",
       "    .dataframe thead th {\n",
       "        text-align: right;\n",
       "    }\n",
       "</style>\n",
       "<table border=\"1\" class=\"dataframe\">\n",
       "  <thead>\n",
       "    <tr style=\"text-align: right;\">\n",
       "      <th></th>\n",
       "      <th>Unnamed: 0</th>\n",
       "      <th>pairID</th>\n",
       "      <th>Flickr30kID</th>\n",
       "      <th>hypothesis</th>\n",
       "      <th>gold_label</th>\n",
       "      <th>explanation</th>\n",
       "    </tr>\n",
       "  </thead>\n",
       "  <tbody>\n",
       "    <tr>\n",
       "      <th>0</th>\n",
       "      <td>0</td>\n",
       "      <td>4564320256.jpg#1r1c</td>\n",
       "      <td>4564320256.jpg</td>\n",
       "      <td>Two old men robbing a convenience store.</td>\n",
       "      <td>contradiction</td>\n",
       "      <td>A lady and her granddaughter cannot also be tw...</td>\n",
       "    </tr>\n",
       "    <tr>\n",
       "      <th>1</th>\n",
       "      <td>1</td>\n",
       "      <td>4564320256.jpg#1r1e</td>\n",
       "      <td>4564320256.jpg</td>\n",
       "      <td>Two humans in a store.</td>\n",
       "      <td>entailment</td>\n",
       "      <td>A lady and a granddaughter are both types of h...</td>\n",
       "    </tr>\n",
       "    <tr>\n",
       "      <th>2</th>\n",
       "      <td>2</td>\n",
       "      <td>4564320256.jpg#1r1n</td>\n",
       "      <td>4564320256.jpg</td>\n",
       "      <td>A mother teaching her granddaughter how to run...</td>\n",
       "      <td>neutral</td>\n",
       "      <td>Just because the old lady and her granddaughte...</td>\n",
       "    </tr>\n",
       "    <tr>\n",
       "      <th>3</th>\n",
       "      <td>3</td>\n",
       "      <td>4564320256.jpg#0r1c</td>\n",
       "      <td>4564320256.jpg</td>\n",
       "      <td>The lady and the girl are taking a walk to the...</td>\n",
       "      <td>contradiction</td>\n",
       "      <td>The lady and girl are surrounded by newspapers...</td>\n",
       "    </tr>\n",
       "    <tr>\n",
       "      <th>4</th>\n",
       "      <td>4</td>\n",
       "      <td>4564320256.jpg#2r1c</td>\n",
       "      <td>4564320256.jpg</td>\n",
       "      <td>The old lady is a zombie.</td>\n",
       "      <td>contradiction</td>\n",
       "      <td>If the old woman is a zombie, she would be try...</td>\n",
       "    </tr>\n",
       "    <tr>\n",
       "      <th>5</th>\n",
       "      <td>5</td>\n",
       "      <td>4564320256.jpg#2r1n</td>\n",
       "      <td>4564320256.jpg</td>\n",
       "      <td>The mother and daughter are bored.</td>\n",
       "      <td>neutral</td>\n",
       "      <td>Just because the woman and young girl are sitt...</td>\n",
       "    </tr>\n",
       "    <tr>\n",
       "      <th>6</th>\n",
       "      <td>6</td>\n",
       "      <td>4564320256.jpg#4r1e</td>\n",
       "      <td>4564320256.jpg</td>\n",
       "      <td>Two women reading the paper together.</td>\n",
       "      <td>entailment</td>\n",
       "      <td>The women reading newspapers which implies tha...</td>\n",
       "    </tr>\n",
       "  </tbody>\n",
       "</table>\n",
       "</div>"
      ],
      "text/plain": [
       "   Unnamed: 0               pairID     Flickr30kID  \\\n",
       "0           0  4564320256.jpg#1r1c  4564320256.jpg   \n",
       "1           1  4564320256.jpg#1r1e  4564320256.jpg   \n",
       "2           2  4564320256.jpg#1r1n  4564320256.jpg   \n",
       "3           3  4564320256.jpg#0r1c  4564320256.jpg   \n",
       "4           4  4564320256.jpg#2r1c  4564320256.jpg   \n",
       "5           5  4564320256.jpg#2r1n  4564320256.jpg   \n",
       "6           6  4564320256.jpg#4r1e  4564320256.jpg   \n",
       "\n",
       "                                          hypothesis     gold_label  \\\n",
       "0           Two old men robbing a convenience store.  contradiction   \n",
       "1                             Two humans in a store.     entailment   \n",
       "2  A mother teaching her granddaughter how to run...        neutral   \n",
       "3  The lady and the girl are taking a walk to the...  contradiction   \n",
       "4                          The old lady is a zombie.  contradiction   \n",
       "5                 The mother and daughter are bored.        neutral   \n",
       "6              Two women reading the paper together.     entailment   \n",
       "\n",
       "                                         explanation  \n",
       "0  A lady and her granddaughter cannot also be tw...  \n",
       "1  A lady and a granddaughter are both types of h...  \n",
       "2  Just because the old lady and her granddaughte...  \n",
       "3  The lady and girl are surrounded by newspapers...  \n",
       "4  If the old woman is a zombie, she would be try...  \n",
       "5  Just because the woman and young girl are sitt...  \n",
       "6  The women reading newspapers which implies tha...  "
      ]
     },
     "execution_count": 7,
     "metadata": {},
     "output_type": "execute_result"
    }
   ],
   "source": [
    "duplicate_images=full[full.duplicated(subset=['Flickr30kID'])]\n",
    "print(len(duplicate_images))\n",
    "print(len(full.index)-len(duplicate_images))\n",
    "full[full['Flickr30kID']=='4564320256.jpg']"
   ]
  },
  {
   "cell_type": "code",
   "execution_count": 8,
   "id": "9bf6d8e6",
   "metadata": {},
   "outputs": [
    {
     "data": {
      "text/html": [
       "<div>\n",
       "<style scoped>\n",
       "    .dataframe tbody tr th:only-of-type {\n",
       "        vertical-align: middle;\n",
       "    }\n",
       "\n",
       "    .dataframe tbody tr th {\n",
       "        vertical-align: top;\n",
       "    }\n",
       "\n",
       "    .dataframe thead th {\n",
       "        text-align: right;\n",
       "    }\n",
       "</style>\n",
       "<table border=\"1\" class=\"dataframe\">\n",
       "  <thead>\n",
       "    <tr style=\"text-align: right;\">\n",
       "      <th></th>\n",
       "      <th>Unnamed: 0</th>\n",
       "      <th>pairID</th>\n",
       "      <th>Flickr30kID</th>\n",
       "      <th>hypothesis</th>\n",
       "      <th>gold_label</th>\n",
       "      <th>explanation</th>\n",
       "    </tr>\n",
       "  </thead>\n",
       "  <tbody>\n",
       "  </tbody>\n",
       "</table>\n",
       "</div>"
      ],
      "text/plain": [
       "Empty DataFrame\n",
       "Columns: [Unnamed: 0, pairID, Flickr30kID, hypothesis, gold_label, explanation]\n",
       "Index: []"
      ]
     },
     "execution_count": 8,
     "metadata": {},
     "output_type": "execute_result"
    }
   ],
   "source": [
    "duplicate_ID=full[full.duplicated(subset=['pairID'])]\n",
    "duplicate_ID"
   ]
  },
  {
   "cell_type": "code",
   "execution_count": 9,
   "id": "37f52055",
   "metadata": {},
   "outputs": [
    {
     "data": {
      "text/html": [
       "<div>\n",
       "<style scoped>\n",
       "    .dataframe tbody tr th:only-of-type {\n",
       "        vertical-align: middle;\n",
       "    }\n",
       "\n",
       "    .dataframe tbody tr th {\n",
       "        vertical-align: top;\n",
       "    }\n",
       "\n",
       "    .dataframe thead th {\n",
       "        text-align: right;\n",
       "    }\n",
       "</style>\n",
       "<table border=\"1\" class=\"dataframe\">\n",
       "  <thead>\n",
       "    <tr style=\"text-align: right;\">\n",
       "      <th></th>\n",
       "      <th>Unnamed: 0</th>\n",
       "      <th>pairID</th>\n",
       "      <th>Flickr30kID</th>\n",
       "      <th>hypothesis</th>\n",
       "      <th>gold_label</th>\n",
       "      <th>explanation</th>\n",
       "    </tr>\n",
       "  </thead>\n",
       "  <tbody>\n",
       "    <tr>\n",
       "      <th>0</th>\n",
       "      <td>0</td>\n",
       "      <td>4564320256.jpg#1r1c</td>\n",
       "      <td>4564320256.jpg</td>\n",
       "      <td>Two old men robbing a convenience store.</td>\n",
       "      <td>contradiction</td>\n",
       "      <td>A lady and her granddaughter cannot also be tw...</td>\n",
       "    </tr>\n",
       "    <tr>\n",
       "      <th>1</th>\n",
       "      <td>1</td>\n",
       "      <td>4564320256.jpg#1r1e</td>\n",
       "      <td>4564320256.jpg</td>\n",
       "      <td>Two humans in a store.</td>\n",
       "      <td>entailment</td>\n",
       "      <td>A lady and a granddaughter are both types of h...</td>\n",
       "    </tr>\n",
       "    <tr>\n",
       "      <th>2</th>\n",
       "      <td>2</td>\n",
       "      <td>4564320256.jpg#1r1n</td>\n",
       "      <td>4564320256.jpg</td>\n",
       "      <td>A mother teaching her granddaughter how to run...</td>\n",
       "      <td>neutral</td>\n",
       "      <td>Just because the old lady and her granddaughte...</td>\n",
       "    </tr>\n",
       "    <tr>\n",
       "      <th>3</th>\n",
       "      <td>3</td>\n",
       "      <td>4564320256.jpg#0r1c</td>\n",
       "      <td>4564320256.jpg</td>\n",
       "      <td>The lady and the girl are taking a walk to the...</td>\n",
       "      <td>contradiction</td>\n",
       "      <td>The lady and girl are surrounded by newspapers...</td>\n",
       "    </tr>\n",
       "    <tr>\n",
       "      <th>4</th>\n",
       "      <td>4</td>\n",
       "      <td>4564320256.jpg#2r1c</td>\n",
       "      <td>4564320256.jpg</td>\n",
       "      <td>The old lady is a zombie.</td>\n",
       "      <td>contradiction</td>\n",
       "      <td>If the old woman is a zombie, she would be try...</td>\n",
       "    </tr>\n",
       "    <tr>\n",
       "      <th>...</th>\n",
       "      <td>...</td>\n",
       "      <td>...</td>\n",
       "      <td>...</td>\n",
       "      <td>...</td>\n",
       "      <td>...</td>\n",
       "      <td>...</td>\n",
       "    </tr>\n",
       "    <tr>\n",
       "      <th>14334</th>\n",
       "      <td>14334</td>\n",
       "      <td>3313237692.jpg#0r1e</td>\n",
       "      <td>3313237692.jpg</td>\n",
       "      <td>Two girls are standing next to a girl who is s...</td>\n",
       "      <td>entailment</td>\n",
       "      <td>There are two girls next to a girl sitting so ...</td>\n",
       "    </tr>\n",
       "    <tr>\n",
       "      <th>14335</th>\n",
       "      <td>14335</td>\n",
       "      <td>3313237692.jpg#0r1c</td>\n",
       "      <td>3313237692.jpg</td>\n",
       "      <td>The three girls are arm wrestling in China town.</td>\n",
       "      <td>contradiction</td>\n",
       "      <td>One cannot say they stand if they are arm wres...</td>\n",
       "    </tr>\n",
       "    <tr>\n",
       "      <th>14336</th>\n",
       "      <td>14336</td>\n",
       "      <td>2581058635.jpg#3r1c</td>\n",
       "      <td>2581058635.jpg</td>\n",
       "      <td>A man is swimming in the ocean.</td>\n",
       "      <td>contradiction</td>\n",
       "      <td>One cannot be squatting and swimming simultane...</td>\n",
       "    </tr>\n",
       "    <tr>\n",
       "      <th>14337</th>\n",
       "      <td>14337</td>\n",
       "      <td>2871984109.jpg#1r1c</td>\n",
       "      <td>2871984109.jpg</td>\n",
       "      <td>The San Francisco 49ers cheerleaders perform i...</td>\n",
       "      <td>contradiction</td>\n",
       "      <td>Performing on a football field is contradictor...</td>\n",
       "    </tr>\n",
       "    <tr>\n",
       "      <th>14338</th>\n",
       "      <td>14338</td>\n",
       "      <td>2871984109.jpg#1r1e</td>\n",
       "      <td>2871984109.jpg</td>\n",
       "      <td>A group of people dance outdoors.</td>\n",
       "      <td>entailment</td>\n",
       "      <td>A goal post would be outdoors.</td>\n",
       "    </tr>\n",
       "  </tbody>\n",
       "</table>\n",
       "<p>430796 rows × 6 columns</p>\n",
       "</div>"
      ],
      "text/plain": [
       "       Unnamed: 0               pairID     Flickr30kID  \\\n",
       "0               0  4564320256.jpg#1r1c  4564320256.jpg   \n",
       "1               1  4564320256.jpg#1r1e  4564320256.jpg   \n",
       "2               2  4564320256.jpg#1r1n  4564320256.jpg   \n",
       "3               3  4564320256.jpg#0r1c  4564320256.jpg   \n",
       "4               4  4564320256.jpg#2r1c  4564320256.jpg   \n",
       "...           ...                  ...             ...   \n",
       "14334       14334  3313237692.jpg#0r1e  3313237692.jpg   \n",
       "14335       14335  3313237692.jpg#0r1c  3313237692.jpg   \n",
       "14336       14336  2581058635.jpg#3r1c  2581058635.jpg   \n",
       "14337       14337  2871984109.jpg#1r1c  2871984109.jpg   \n",
       "14338       14338  2871984109.jpg#1r1e  2871984109.jpg   \n",
       "\n",
       "                                              hypothesis     gold_label  \\\n",
       "0               Two old men robbing a convenience store.  contradiction   \n",
       "1                                 Two humans in a store.     entailment   \n",
       "2      A mother teaching her granddaughter how to run...        neutral   \n",
       "3      The lady and the girl are taking a walk to the...  contradiction   \n",
       "4                              The old lady is a zombie.  contradiction   \n",
       "...                                                  ...            ...   \n",
       "14334  Two girls are standing next to a girl who is s...     entailment   \n",
       "14335   The three girls are arm wrestling in China town.  contradiction   \n",
       "14336                    A man is swimming in the ocean.  contradiction   \n",
       "14337  The San Francisco 49ers cheerleaders perform i...  contradiction   \n",
       "14338                  A group of people dance outdoors.     entailment   \n",
       "\n",
       "                                             explanation  \n",
       "0      A lady and her granddaughter cannot also be tw...  \n",
       "1      A lady and a granddaughter are both types of h...  \n",
       "2      Just because the old lady and her granddaughte...  \n",
       "3      The lady and girl are surrounded by newspapers...  \n",
       "4      If the old woman is a zombie, she would be try...  \n",
       "...                                                  ...  \n",
       "14334  There are two girls next to a girl sitting so ...  \n",
       "14335  One cannot say they stand if they are arm wres...  \n",
       "14336  One cannot be squatting and swimming simultane...  \n",
       "14337  Performing on a football field is contradictor...  \n",
       "14338                     A goal post would be outdoors.  \n",
       "\n",
       "[430796 rows x 6 columns]"
      ]
     },
     "execution_count": 9,
     "metadata": {},
     "output_type": "execute_result"
    }
   ],
   "source": [
    "full"
   ]
  },
  {
   "cell_type": "code",
   "execution_count": 10,
   "id": "378080e6",
   "metadata": {},
   "outputs": [
    {
     "name": "stdout",
     "output_type": "stream",
     "text": [
      "['Unnamed: 0', 'pairID', 'Flickr30kID', 'hypothesis', 'gold_label', 'explanation']\n"
     ]
    }
   ],
   "source": [
    "print(list(full.columns))"
   ]
  },
  {
   "cell_type": "code",
   "execution_count": 11,
   "id": "2acb7b85",
   "metadata": {},
   "outputs": [
    {
     "name": "stdout",
     "output_type": "stream",
     "text": [
      "['Unnamed: 0', 'pairID', 'Flickr30kID', 'hypothesis', 'gold_label', 'explanation']\n"
     ]
    }
   ],
   "source": [
    "print(list(train.columns))"
   ]
  },
  {
   "cell_type": "code",
   "execution_count": 12,
   "id": "45ccedbb",
   "metadata": {},
   "outputs": [
    {
     "name": "stdout",
     "output_type": "stream",
     "text": [
      "['Unnamed: 0', 'pairID', 'Flickr30kID', 'hypothesis', 'gold_label', 'explanation']\n"
     ]
    }
   ],
   "source": [
    "print(list(test.columns))"
   ]
  },
  {
   "cell_type": "code",
   "execution_count": 13,
   "id": "84b0a17b",
   "metadata": {},
   "outputs": [
    {
     "name": "stdout",
     "output_type": "stream",
     "text": [
      "['Unnamed: 0', 'pairID', 'Flickr30kID', 'hypothesis', 'gold_label', 'explanation']\n"
     ]
    }
   ],
   "source": [
    "print(list(dev.columns))"
   ]
  },
  {
   "cell_type": "code",
   "execution_count": 14,
   "id": "6983416a",
   "metadata": {},
   "outputs": [
    {
     "data": {
      "text/plain": [
       "[153,\n",
       " 153,\n",
       " 153,\n",
       " 153,\n",
       " 153,\n",
       " 153,\n",
       " 153,\n",
       " 154,\n",
       " 154,\n",
       " 154,\n",
       " 154,\n",
       " 154,\n",
       " 155,\n",
       " 155,\n",
       " 155,\n",
       " 155,\n",
       " 156,\n",
       " 157,\n",
       " 157,\n",
       " 157,\n",
       " 157,\n",
       " 157,\n",
       " 158,\n",
       " 158,\n",
       " 158,\n",
       " 158,\n",
       " 158,\n",
       " 159,\n",
       " 159,\n",
       " 159,\n",
       " 159,\n",
       " 160,\n",
       " 160,\n",
       " 161,\n",
       " 162,\n",
       " 162,\n",
       " 162,\n",
       " 163,\n",
       " 163,\n",
       " 163,\n",
       " 163,\n",
       " 164,\n",
       " 165,\n",
       " 165,\n",
       " 165,\n",
       " 165,\n",
       " 166,\n",
       " 166,\n",
       " 166,\n",
       " 166,\n",
       " 167,\n",
       " 167,\n",
       " 167,\n",
       " 168,\n",
       " 168,\n",
       " 168,\n",
       " 170,\n",
       " 170,\n",
       " 171,\n",
       " 171,\n",
       " 171,\n",
       " 173,\n",
       " 173,\n",
       " 173,\n",
       " 173,\n",
       " 174,\n",
       " 174,\n",
       " 174,\n",
       " 175,\n",
       " 176,\n",
       " 176,\n",
       " 177,\n",
       " 177,\n",
       " 177,\n",
       " 178,\n",
       " 179,\n",
       " 180,\n",
       " 183,\n",
       " 185,\n",
       " 187,\n",
       " 188,\n",
       " 188,\n",
       " 188,\n",
       " 190,\n",
       " 190,\n",
       " 190,\n",
       " 190,\n",
       " 191,\n",
       " 191,\n",
       " 192,\n",
       " 193,\n",
       " 202,\n",
       " 203,\n",
       " 204,\n",
       " 206,\n",
       " 232,\n",
       " 241,\n",
       " 246,\n",
       " 275,\n",
       " 295]"
      ]
     },
     "execution_count": 14,
     "metadata": {},
     "output_type": "execute_result"
    }
   ],
   "source": [
    "hyp_len = full['hypothesis'].apply(len).tolist()\n",
    "hyp_len.sort()\n",
    "len(hyp_len)\n",
    "hyp_len[-100:]"
   ]
  },
  {
   "cell_type": "code",
   "execution_count": 15,
   "id": "776745e4",
   "metadata": {},
   "outputs": [
    {
     "data": {
      "text/plain": [
       "58.0"
      ]
     },
     "execution_count": 15,
     "metadata": {},
     "output_type": "execute_result"
    }
   ],
   "source": [
    "hyp_len_np = np.array(hyp_len)\n",
    "p = np.percentile(hyp_len_np, 90)\n",
    "p"
   ]
  },
  {
   "cell_type": "code",
   "execution_count": 34,
   "id": "6012abef",
   "metadata": {},
   "outputs": [
    {
     "data": {
      "text/plain": [
       "58.0"
      ]
     },
     "execution_count": 34,
     "metadata": {},
     "output_type": "execute_result"
    }
   ],
   "source": [
    "hyp_len_np = np.array(hyp_len)\n",
    "p = np.percentile(hyp_len_np, 90)\n",
    "p"
   ]
  },
  {
   "cell_type": "code",
   "execution_count": 17,
   "id": "8a377dde",
   "metadata": {},
   "outputs": [
    {
     "data": {
      "text/plain": [
       "<seaborn.axisgrid.FacetGrid at 0x2667a044fd0>"
      ]
     },
     "execution_count": 17,
     "metadata": {},
     "output_type": "execute_result"
    },
    {
     "data": {
      "image/png": "[encoded data removed]",
      "text/plain": [
       "<Figure size 360x360 with 1 Axes>"
      ]
     },
     "metadata": {
      "needs_background": "light"
     },
     "output_type": "display_data"
    }
   ],
   "source": [
    "sns.displot(hyp_len)"
   ]
  },
  {
   "cell_type": "code",
   "execution_count": 18,
   "id": "ec45aa4f",
   "metadata": {},
   "outputs": [
    {
     "data": {
      "text/plain": [
       "31783"
      ]
     },
     "execution_count": 18,
     "metadata": {},
     "output_type": "execute_result"
    }
   ],
   "source": [
    "all_images = set(full['Flickr30kID'])\n",
    "len(all_images)"
   ]
  },
  {
   "cell_type": "code",
   "execution_count": 19,
   "id": "24e61c35",
   "metadata": {},
   "outputs": [
    {
     "data": {
      "text/plain": [
       "80"
      ]
     },
     "execution_count": 19,
     "metadata": {},
     "output_type": "execute_result"
    }
   ],
   "source": [
    "sys.getsizeof([torch.tensor([1,2,3]),2,3])"
   ]
  },
  {
   "cell_type": "code",
   "execution_count": 20,
   "id": "4254217e",
   "metadata": {},
   "outputs": [
    {
     "data": {
      "text/plain": [
       "10"
      ]
     },
     "execution_count": 20,
     "metadata": {},
     "output_type": "execute_result"
    }
   ],
   "source": [
    "a = 10\n",
    "b=a\n",
    "a = 9\n",
    "b"
   ]
  },
  {
   "cell_type": "code",
   "execution_count": 21,
   "id": "96441187",
   "metadata": {},
   "outputs": [],
   "source": [
    "class MyImages():\n",
    "    def __init__(self,image_path,img_names,device):\n",
    "        self.device = device\n",
    "        self.img_dict = {}\n",
    "        img_env = lmdb.open(\n",
    "            image_path, readonly=True, create=False, readahead=not False\n",
    "        )\n",
    "        img_txn = img_env.begin(buffers=True)\n",
    "        for img_name in img_names:\n",
    "            item_img = pickle.loads(img_txn.get(img_name.encode()))\n",
    "            img_list = []\n",
    "            img_list.append(torch.tensor(item_img['normalized_boxes'][0], dtype = torch.float32, device = self.device))\n",
    "            img_list.append(torch.tensor(item_img['features'][0], dtype = torch.float32, device = self.device))\n",
    "            self.img_dict[img_name] = img_list\n",
    "        img_env.close()\n",
    "        return\n",
    "    \n",
    "    def get_img(self,img_name):\n",
    "        return self.img_dict.get(img_name)"
   ]
  },
  {
   "cell_type": "code",
   "execution_count": 22,
   "id": "d8022751",
   "metadata": {},
   "outputs": [],
   "source": [
    "#device = torch.device(\"cuda\" if torch.cuda.is_available() else \"cpu\")\n",
    "device = \"cpu\""
   ]
  },
  {
   "cell_type": "code",
   "execution_count": 23,
   "id": "4279386c",
   "metadata": {},
   "outputs": [],
   "source": [
    "c = MyImages('./lxmert/my_image_db',all_images,device)"
   ]
  },
  {
   "cell_type": "code",
   "execution_count": 28,
   "id": "42ed7f80",
   "metadata": {},
   "outputs": [
    {
     "data": {
      "text/plain": [
       "8.749353021383286"
      ]
     },
     "execution_count": 28,
     "metadata": {},
     "output_type": "execute_result"
    }
   ],
   "source": [
    "total_size = 0\n",
    "for key in c.img_dict:\n",
    "    total_size+=sys.getsizeof(c.img_dict[key][0].storage())\n",
    "    total_size+=sys.getsizeof(c.img_dict[key][1].storage())\n",
    "total_size/1024/1024/1024"
   ]
  },
  {
   "cell_type": "code",
   "execution_count": 31,
   "id": "4b3fb596",
   "metadata": {},
   "outputs": [
    {
     "data": {
      "text/plain": [
       "4.6"
      ]
     },
     "execution_count": 31,
     "metadata": {},
     "output_type": "execute_result"
    }
   ],
   "source": [
    "psutil.cpu_percent()"
   ]
  },
  {
   "cell_type": "code",
   "execution_count": 32,
   "id": "ac0f3f0a",
   "metadata": {},
   "outputs": [
    {
     "data": {
      "text/plain": [
       "svmem(total=8381452288, available=2465271808, percent=70.6, used=5916180480, free=2465271808)"
      ]
     },
     "execution_count": 32,
     "metadata": {},
     "output_type": "execute_result"
    }
   ],
   "source": [
    "# gives an object with many fields\n",
    "psutil.virtual_memory()"
   ]
  },
  {
   "cell_type": "code",
   "execution_count": 33,
   "id": "e74ebd0d",
   "metadata": {},
   "outputs": [
    {
     "data": {
      "text/plain": [
       "{'total': 8381452288,\n",
       " 'available': 2473500672,\n",
       " 'percent': 70.5,\n",
       " 'used': 5907951616,\n",
       " 'free': 2473500672}"
      ]
     },
     "execution_count": 33,
     "metadata": {},
     "output_type": "execute_result"
    }
   ],
   "source": [
    "# you can convert that object to a dictionary \n",
    "dict(psutil.virtual_memory()._asdict())"
   ]
  },
  {
   "cell_type": "code",
   "execution_count": 34,
   "id": "30441d55",
   "metadata": {},
   "outputs": [
    {
     "data": {
      "text/plain": [
       "70.3"
      ]
     },
     "execution_count": 34,
     "metadata": {},
     "output_type": "execute_result"
    }
   ],
   "source": [
    "# you can have the percentage of used RAM\n",
    "psutil.virtual_memory().percent"
   ]
  },
  {
   "cell_type": "code",
   "execution_count": 35,
   "id": "95fb04ee",
   "metadata": {},
   "outputs": [
    {
     "data": {
      "text/plain": [
       "29.777842720328326"
      ]
     },
     "execution_count": 35,
     "metadata": {},
     "output_type": "execute_result"
    }
   ],
   "source": [
    "# you can calculate percentage of available memory\n",
    "psutil.virtual_memory().available * 100 / psutil.virtual_memory().total"
   ]
  },
  {
   "cell_type": "code",
   "execution_count": null,
   "id": "6c5fcfb4",
   "metadata": {},
   "outputs": [],
   "source": []
  }
 ],
 "metadata": {
  "kernelspec": {
   "display_name": "Python 3 (ipykernel)",
   "language": "python",
   "name": "python3"
  },
  "language_info": {
   "codemirror_mode": {
    "name": "ipython",
    "version": 3
   },
   "file_extension": ".py",
   "mimetype": "text/x-python",
   "name": "python",
   "nbconvert_exporter": "python",
   "pygments_lexer": "ipython3",
   "version": "3.8.12"
  }
 },
 "nbformat": 4,
 "nbformat_minor": 5
}
